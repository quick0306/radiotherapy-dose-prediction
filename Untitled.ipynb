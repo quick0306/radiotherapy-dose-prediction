{
 "cells": [
  {
   "cell_type": "code",
   "execution_count": null,
   "metadata": {},
   "outputs": [],
   "source": [
    "def main(data_file):\n",
    "    # read dicom files into the 3d data matrix\n",
    "    orig_CT = readDicom(data_file)\n",
    "    # resample the origianl CT to 128x128x256 to pass to DenseNet model\n",
    "    resamp_CT = resample(orig_CT, output_size = [128,128,256])\n",
    "    # pass the resamp_CT to the Dense model to extract the heart long axis orientation\n",
    "    model =  load_model('DenseNet.h5')\n",
    "    heart_long_axis = longAxis(model, resamp_CT)\n",
    "    # rotate the orig_CT according to the long axis orientation\n",
    "    post_CT = image_rotation(orig_CT, heart_long_axis)\n",
    "    # save the post_CT to dicom file 'rotated_image.dcm'\n",
    "    dicomSave(post_CT, data_file,'rotated_image.dcm')\n",
    "    "
   ]
  }
 ],
 "metadata": {
  "kernelspec": {
   "display_name": "Python 3",
   "language": "python",
   "name": "python3"
  },
  "language_info": {
   "codemirror_mode": {
    "name": "ipython",
    "version": 3
   },
   "file_extension": ".py",
   "mimetype": "text/x-python",
   "name": "python",
   "nbconvert_exporter": "python",
   "pygments_lexer": "ipython3",
   "version": "3.7.7"
  }
 },
 "nbformat": 4,
 "nbformat_minor": 4
}
