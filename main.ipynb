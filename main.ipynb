{
 "cells": [
  {
   "cell_type": "code",
   "execution_count": null,
   "metadata": {},
   "outputs": [],
   "source": [
    "%load_ext autoreload\n",
    "%autoreload 2\n",
    "%matplotlib notebook\n",
    "\n",
    "import os\n",
    "import numpy as np\n",
    "from os import listdir\n",
    "from pathlib import Path\n",
    "from scipy.io import loadmat\n",
    "from sklearn.model_selection import train_test_split\n",
    "import h5py\n",
    "import pydicom as dicom\n",
    "import matplotlib.pyplot as plt\n",
    "from dicompylercore import dicomparser, dvh, dvhcalc\n",
    "from dicom_contour.contour import get_contour_file,get_roi_names, coord2pixels, cfile2pixels, plot2dcontour, slice_order, get_contour_dict, get_data,  create_image_mask_files\n",
    "from preprocessing.get_plan_from_dicom import Plan, plot_DVH, structure_range, img_cut, resample\n",
    "from preprocessing.get_plan_from_dicom import plot_3d_img, plan_unit_test\n",
    "from preprocessing.generate_data import get_plans_unit_test\n",
    "from util import *\n",
    "from config import *\n",
    "from preprocessing.generate_data import get_plans\n",
    "from dicom_contour.contour import get_ct_name_dict\n",
    "from dicom_contour.dose import build_dose_volume\n",
    "import pickle\n",
    "from PIL import Image, ImageDraw\n",
    "from copy import deepcopy\n",
    "import math\n",
    "from tensorflow import keras\n",
    "#from model_training_evaluation.training import train_nn_model, run_training\n",
    "from model_training_evaluation.predicting import predict_evaluation, evaluate, predict_batch, predict_unit_test,  metrics_summary\n",
    "from model_training_evaluation.training import training_unit_test\n"
   ]
  },
  {
   "cell_type": "code",
   "execution_count": null,
   "metadata": {},
   "outputs": [],
   "source": [
    "## unit test of the plan class\n",
    "plan = plan_unit_test()"
   ]
  },
  {
   "cell_type": "code",
   "execution_count": null,
   "metadata": {},
   "outputs": [],
   "source": [
    "# Dose Volume histogram plot check\n",
    "plan.plot_DVH(standard_name)"
   ]
  },
  {
   "cell_type": "code",
   "execution_count": null,
   "metadata": {},
   "outputs": [],
   "source": [
    "# dose normalization check\n",
    "plan.normalize('Lungs', 8)\n",
    "plan.plot_DVH(standard_name)"
   ]
  },
  {
   "cell_type": "code",
   "execution_count": null,
   "metadata": {},
   "outputs": [],
   "source": [
    "## generate plans for all plans\n",
    "get_plans_unit_test()\n",
    "    \n"
   ]
  },
  {
   "cell_type": "code",
   "execution_count": null,
   "metadata": {},
   "outputs": [],
   "source": [
    "## training of the models\n",
    "if __name__ == '__main__':\n",
    "    run_training(train_gan_model = False, input_size = (16, 64, 128, 12), parent_path='Data', training_npy_path = 'Data/npy_dataset/training/' , validation_npy_path = 'Data/npy_dataset/validation/')"
   ]
  },
  {
   "cell_type": "code",
   "execution_count": null,
   "metadata": {},
   "outputs": [],
   "source": [
    "model_path = 'Data/Model_AttUnetDense_v3/'\n",
    "if model_path[-1] != '/':\n",
    "    model_path = model_path + '/'\n",
    "model =  load_model(model_path + 'final_model.h5' )\n",
    "model.load_weights(model_path + 'best_weights.h5')\n",
    "data_folder = 'Data/npy_dataset/test'\n",
    "data_dirs = listdir(data_folder)"
   ]
  },
  {
   "cell_type": "code",
   "execution_count": null,
   "metadata": {
    "scrolled": false
   },
   "outputs": [],
   "source": [
    "folder = data_dirs[0]\n",
    "print('work on test patient ', folder)\n",
    "predict_evaluation(model, test_patient_path = data_folder+'/'+folder)"
   ]
  },
  {
   "cell_type": "code",
   "execution_count": null,
   "metadata": {},
   "outputs": [],
   "source": [
    "metrics_all = predict_batch(model_path, data_folder)"
   ]
  },
  {
   "cell_type": "code",
   "execution_count": null,
   "metadata": {},
   "outputs": [],
   "source": [
    "metrics_summary(metrics_all)"
   ]
  },
  {
   "cell_type": "code",
   "execution_count": null,
   "metadata": {},
   "outputs": [],
   "source": [
    "gpus = tf.config.experimental.list_physical_devices('GPU')\n",
    "tf.config.experimental.set_memory_growth(gpus[0], True)"
   ]
  },
  {
   "cell_type": "code",
   "execution_count": null,
   "metadata": {},
   "outputs": [],
   "source": [
    "from numba import cuda\n",
    "cuda.select_device(0)\n",
    "cuda.close()"
   ]
  },
  {
   "cell_type": "code",
   "execution_count": null,
   "metadata": {},
   "outputs": [],
   "source": [
    "print(metrics_all.keys())\n",
    "metrics_all['patient_4']"
   ]
  },
  {
   "cell_type": "code",
   "execution_count": null,
   "metadata": {},
   "outputs": [],
   "source": []
  }
 ],
 "metadata": {
  "kernelspec": {
   "display_name": "Python 3",
   "language": "python",
   "name": "python3"
  },
  "language_info": {
   "codemirror_mode": {
    "name": "ipython",
    "version": 3
   },
   "file_extension": ".py",
   "mimetype": "text/x-python",
   "name": "python",
   "nbconvert_exporter": "python",
   "pygments_lexer": "ipython3",
   "version": "3.8.5"
  }
 },
 "nbformat": 4,
 "nbformat_minor": 4
}